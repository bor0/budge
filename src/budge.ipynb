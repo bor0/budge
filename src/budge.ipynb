{
 "cells": [
  {
   "cell_type": "markdown",
   "id": "fce3165b",
   "metadata": {},
   "source": [
    "# Budge interpreter in Python\n",
    "\n",
    "We rely on Python lists data structure to represent sequences."
   ]
  },
  {
   "cell_type": "code",
   "execution_count": 1,
   "id": "a1452c6e",
   "metadata": {},
   "outputs": [],
   "source": [
    "def sign(x):\n",
    "  return 1 if x >= 1 else -1\n",
    "\n",
    "def p(x):\n",
    "  (n, c) = (1, 0)\n",
    "  while c < x:\n",
    "    n += 1\n",
    "    for i in range(2, n+1):\n",
    "      if n % i == 0:\n",
    "        break\n",
    "    if i == n:\n",
    "      c += 1\n",
    "  return n\n",
    "\n",
    "def evaluate(i, code):\n",
    "  for el in code:\n",
    "    if isinstance(el, list) and len(el) > 1:\n",
    "      while i % p(abs(el[0])) == 0:\n",
    "        i = evaluate(i, el[1:])\n",
    "    elif sign(el) == 1:\n",
    "      i *= p(el)\n",
    "    else:\n",
    "      new_i = p(abs(el))\n",
    "      if i % new_i == 0:\n",
    "        i = int(i // new_i)\n",
    "\n",
    "  return i"
   ]
  },
  {
   "cell_type": "markdown",
   "id": "bf8ad7df",
   "metadata": {},
   "source": [
    "Use these helper methods to convert between a number and a list of registers (prime factorization):"
   ]
  },
  {
   "cell_type": "code",
   "execution_count": 2,
   "id": "74214ec4",
   "metadata": {},
   "outputs": [],
   "source": [
    "def get_registers(i):\n",
    "  (r, reg) = ({}, 1)\n",
    "  while i != 1:\n",
    "    while i % p(reg) == 0:\n",
    "      if reg not in r: r[reg] = 0\n",
    "      r[reg] += 1\n",
    "      i //= p(reg)\n",
    "    reg += 1\n",
    "  return r\n",
    "\n",
    "def set_registers(r):\n",
    "  i = 1\n",
    "  for reg in r:\n",
    "    i *= p(reg) ** r[reg]\n",
    "  return i"
   ]
  },
  {
   "cell_type": "markdown",
   "id": "db6eded8",
   "metadata": {},
   "source": [
    "Example usage:"
   ]
  },
  {
   "cell_type": "code",
   "execution_count": 3,
   "id": "0fc4b6d7",
   "metadata": {},
   "outputs": [
    {
     "data": {
      "text/plain": [
       "{2: 1, 3: 1, 143: 1}"
      ]
     },
     "execution_count": 3,
     "metadata": {},
     "output_type": "execute_result"
    }
   ],
   "source": [
    "get_registers(12345)"
   ]
  },
  {
   "cell_type": "code",
   "execution_count": 4,
   "id": "1ef29490",
   "metadata": {
    "scrolled": true
   },
   "outputs": [
    {
     "data": {
      "text/plain": [
       "12345"
      ]
     },
     "execution_count": 4,
     "metadata": {},
     "output_type": "execute_result"
    }
   ],
   "source": [
    "set_registers(get_registers(12345))"
   ]
  },
  {
   "cell_type": "markdown",
   "id": "78f1a706",
   "metadata": {},
   "source": [
    "# Examples\n",
    "\n",
    "For example, to set register 1 to value 4, use the first prime $p(1) = 2$ and then power it to the value, i.e. $2^4$. To also set the second register to another value, say 5, use the second prime $p(2) = 3$ and power it to the value $3^5$. Multiply both registers like so to represent the value (4, 5) in memory: $2^4 \\cdot 3^5$.\n",
    "\n",
    "Then, to apply the code `[[2, -2, 1]]` to that input, use something like:"
   ]
  },
  {
   "cell_type": "code",
   "execution_count": 5,
   "id": "1dfd8f85",
   "metadata": {},
   "outputs": [
    {
     "data": {
      "text/plain": [
       "512"
      ]
     },
     "execution_count": 5,
     "metadata": {},
     "output_type": "execute_result"
    }
   ],
   "source": [
    "evaluate(2**4 * 3**5, [[2, -2, 1]])"
   ]
  },
  {
   "cell_type": "markdown",
   "id": "222168e7",
   "metadata": {},
   "source": [
    "The prime factorization of 512 is $2^9$, which indicates that the first register ($p(1) = 2$) has a value of 9, i.e. the addition of 4 and 5."
   ]
  },
  {
   "cell_type": "markdown",
   "id": "446bfe7e",
   "metadata": {},
   "source": [
    "Or, easier with the helper methods:"
   ]
  },
  {
   "cell_type": "code",
   "execution_count": 6,
   "id": "bf5cbd02",
   "metadata": {},
   "outputs": [
    {
     "data": {
      "text/plain": [
       "{1: 9}"
      ]
     },
     "execution_count": 6,
     "metadata": {},
     "output_type": "execute_result"
    }
   ],
   "source": [
    "get_registers(evaluate(set_registers({1: 4, 2: 5}), [[2, -2, 1]]))"
   ]
  },
  {
   "cell_type": "markdown",
   "id": "dda3b7e5",
   "metadata": {},
   "source": [
    "# Efficiency\n",
    "\n",
    "A more efficient interpreter would be to use a `dict` for registers and directly adjust the values there, rather than relying on number division:"
   ]
  },
  {
   "cell_type": "code",
   "execution_count": 7,
   "id": "57140d56",
   "metadata": {},
   "outputs": [],
   "source": [
    "def fast_evaluate(i, code):\n",
    "  for el in code:\n",
    "    if isinstance(el, list) and len(el) > 1:\n",
    "      while abs(el[0]) in i and i[abs(el[0])]:\n",
    "        i = fast_evaluate(i, el[1:])\n",
    "    else:\n",
    "      (s, el) = (sign(el), abs(el))\n",
    "      if el not in i: i[el] = 0\n",
    "      i[el] = max(0, i[el] + s)\n",
    "  # remove zero registers\n",
    "  return {x:y for x,y in i.items() if y != 0}"
   ]
  },
  {
   "cell_type": "markdown",
   "id": "80498d82",
   "metadata": {},
   "source": [
    "The same example as before, using the `fast_evaluate` function:"
   ]
  },
  {
   "cell_type": "code",
   "execution_count": 8,
   "id": "e8dc4046",
   "metadata": {},
   "outputs": [
    {
     "data": {
      "text/plain": [
       "{1: 9}"
      ]
     },
     "execution_count": 8,
     "metadata": {},
     "output_type": "execute_result"
    }
   ],
   "source": [
    "fast_evaluate({1: 4, 2: 5}, [[2, -2, 1]])"
   ]
  },
  {
   "cell_type": "markdown",
   "id": "b4aaa8a6",
   "metadata": {},
   "source": [
    "## Arithmetic\n",
    "\n",
    "### Addition\n",
    "\n",
    "*Input*: $2^x \\cdot 3^y$. *Output*: $2^n$.\n",
    "\n",
    "The following code adds $x$ and $y$."
   ]
  },
  {
   "cell_type": "code",
   "execution_count": 9,
   "id": "68b13aa9",
   "metadata": {},
   "outputs": [],
   "source": [
    "arith_add = [[2, -2, 1]]"
   ]
  },
  {
   "cell_type": "code",
   "execution_count": 10,
   "id": "a60dd066",
   "metadata": {},
   "outputs": [
    {
     "data": {
      "text/plain": [
       "{1: 6}"
      ]
     },
     "execution_count": 10,
     "metadata": {},
     "output_type": "execute_result"
    }
   ],
   "source": [
    "fast_evaluate({1: 3, 2: 3}, arith_add)"
   ]
  },
  {
   "cell_type": "markdown",
   "id": "af0419fb",
   "metadata": {},
   "source": [
    "### Subtraction\n",
    "\n",
    "*Input*: $2^x \\cdot 3^y$. *Output*: $2^n \\cdot 3^k$.\n",
    "\n",
    "The following code will set $k$ to 1 if $y > x$, and 0 otherwise. The final result is $n = |x - y|$."
   ]
  },
  {
   "cell_type": "code",
   "execution_count": 11,
   "id": "968e94d8",
   "metadata": {},
   "outputs": [],
   "source": [
    "arith_sub = [\n",
    "  [1, -1, 3, 5],   # move r1 to r3 r4\n",
    "  [2, -2, 4, 6],   # move r2 to r5 r6\n",
    "  [3, -3, -4],     # calculate r3 - r4\n",
    "  [6, -5, -6],     # calculate r6 - r5\n",
    "  [4, -4, 1, 3],   # move r4 to r1 and r3 (if it was set)\n",
    "  [3, [3, -3], 2], # if r3 was set, then set r2 to 1 to indicate flag\n",
    "  [5, -5, 1]]      # move r5 to r1 (if it was set)"
   ]
  },
  {
   "cell_type": "code",
   "execution_count": 12,
   "id": "fdd27965",
   "metadata": {},
   "outputs": [
    {
     "data": {
      "text/plain": [
       "{1: 2}"
      ]
     },
     "execution_count": 12,
     "metadata": {},
     "output_type": "execute_result"
    }
   ],
   "source": [
    "fast_evaluate({1: 5, 2: 3}, arith_sub)"
   ]
  },
  {
   "cell_type": "code",
   "execution_count": 13,
   "id": "c4d5f159",
   "metadata": {},
   "outputs": [
    {
     "data": {
      "text/plain": [
       "{1: 2, 2: 1}"
      ]
     },
     "execution_count": 13,
     "metadata": {},
     "output_type": "execute_result"
    }
   ],
   "source": [
    "fast_evaluate({1: 3, 2: 5}, arith_sub)"
   ]
  },
  {
   "cell_type": "markdown",
   "id": "d4712ba8",
   "metadata": {},
   "source": [
    "### Multiplication\n",
    "\n",
    "*Input*: $2^x \\cdot 3^y$. *Output*: $2^n$.\n",
    "\n",
    "This code sets $n$ to $x \\cdot y$."
   ]
  },
  {
   "cell_type": "code",
   "execution_count": 14,
   "id": "999fa8ba",
   "metadata": {},
   "outputs": [],
   "source": [
    "arith_mul = [[1, -1, [2, -2, 3, 4], [4, -4, 2]], [2, -2], [3, -3, 1]]"
   ]
  },
  {
   "cell_type": "code",
   "execution_count": 15,
   "id": "ca21f654",
   "metadata": {},
   "outputs": [
    {
     "data": {
      "text/plain": [
       "{1: 8}"
      ]
     },
     "execution_count": 15,
     "metadata": {},
     "output_type": "execute_result"
    }
   ],
   "source": [
    "fast_evaluate({1: 2, 2: 4}, arith_mul)"
   ]
  },
  {
   "cell_type": "markdown",
   "id": "7a2894cf",
   "metadata": {},
   "source": [
    "### Division\n",
    "\n",
    "*Input*: $2^x \\cdot 3^y$. *Output*: $2^n \\cdot 3^k$.\n",
    "\n",
    "If $x \\geq y$, given $a = qb + r$ where $a$ is input through $x$ and $b$ is input through $y$, it will calculate $q$ into $n$ and $r$ into $k$. Otherwise, it calculates $y - x$."
   ]
  },
  {
   "cell_type": "code",
   "execution_count": 16,
   "id": "b1e4a46d",
   "metadata": {},
   "outputs": [],
   "source": [
    "arith_div = [\n",
    "  [2, -2, 7], # store r2 in r7\n",
    "  [1,         # while r1>0\n",
    "    [7, -7, 2, 8], # bring back r2\n",
    "    [8, -8, 7]]    # save r2 to r7\n",
    "    + arith_sub +  # see \"Composing code\"\n",
    "    [9,            # increase quotient\n",
    "    # if sub. underflow store rem in r8\n",
    "    [2, [2, -2], [1, -1, 8], -9]],\n",
    "  [7, -7],    # flush tmp\n",
    "  [9, -9, 1], # set quotient\n",
    "  [8, -8, 2]  # set remainder\n",
    "]"
   ]
  },
  {
   "cell_type": "markdown",
   "id": "4d33db2d",
   "metadata": {},
   "source": [
    "The idea is to keep subtracting until subtraction returns 1 in $r_2$ (second register), which means underflow. We keep track of the number of subtractions and then set $r_2 = r_2 - r_1$ for the remainder."
   ]
  },
  {
   "cell_type": "code",
   "execution_count": 17,
   "id": "b4a2164f",
   "metadata": {},
   "outputs": [
    {
     "data": {
      "text/plain": [
       "{1: 2}"
      ]
     },
     "execution_count": 17,
     "metadata": {},
     "output_type": "execute_result"
    }
   ],
   "source": [
    "fast_evaluate({1: 4, 2: 2}, arith_div)"
   ]
  },
  {
   "cell_type": "code",
   "execution_count": 18,
   "id": "7e06fbc9",
   "metadata": {},
   "outputs": [
    {
     "data": {
      "text/plain": [
       "{2: 1, 1: 1}"
      ]
     },
     "execution_count": 18,
     "metadata": {},
     "output_type": "execute_result"
    }
   ],
   "source": [
    "fast_evaluate({1: 4, 2: 3}, arith_div)"
   ]
  },
  {
   "cell_type": "markdown",
   "id": "fe06ff81",
   "metadata": {},
   "source": [
    "### Exponents\n",
    "\n",
    "*Input*: $2^x \\cdot 3^y$. *Output*: $2^n$.\n",
    "\n",
    "This code sets $n$ to $x^y$. Requires $y>0$."
   ]
  },
  {
   "cell_type": "code",
   "execution_count": 19,
   "id": "e7f86d10",
   "metadata": {},
   "outputs": [],
   "source": [
    "arith_exp = [\n",
    "  -2,\n",
    "  [2, -2, 5],      # move r2 to r5\n",
    "  [1, -1, 6, 7],   # set r6, r7 to r1\n",
    "  [7, -7, 1],      # move r7 to r1\n",
    "  [5, -5,          # while y>0\n",
    "    [6, -6, 7, 2],   # set r7, r2 to r6\n",
    "    [7, -7, 6]]      # bring r6 back\n",
    "    + arith_mul,     # multiply\n",
    "  [6, -6]]         # flush r6"
   ]
  },
  {
   "cell_type": "code",
   "execution_count": 20,
   "id": "9bf66c83",
   "metadata": {},
   "outputs": [
    {
     "data": {
      "text/plain": [
       "{1: 8}"
      ]
     },
     "execution_count": 20,
     "metadata": {},
     "output_type": "execute_result"
    }
   ],
   "source": [
    "fast_evaluate({1: 2, 2: 3}, arith_exp)"
   ]
  },
  {
   "cell_type": "markdown",
   "id": "3713a40d",
   "metadata": {},
   "source": [
    "## Logic gates"
   ]
  },
  {
   "cell_type": "code",
   "execution_count": 21,
   "id": "dcb47008",
   "metadata": {},
   "outputs": [],
   "source": [
    "logic_not = [2, [1, -1, -2], [2, -2, 1]]\n",
    "logic_and = [[1, [1, -1], 3], [2, [2, -2], 3], -3, [3, -3, 1]]\n",
    "logic_or = [[1, [1, -1], 3], [2, [2, -2], 3], [3, [3, -3], 1]]"
   ]
  },
  {
   "cell_type": "code",
   "execution_count": 22,
   "id": "df90e821",
   "metadata": {},
   "outputs": [
    {
     "name": "stdout",
     "output_type": "stream",
     "text": [
      "not 0 =  {1: 1}\n",
      "not 1 =  {}\n",
      "not 2 =  {}\n"
     ]
    }
   ],
   "source": [
    "for i in range(0, 3):\n",
    "  print('not %d = ' % i, fast_evaluate({1: i}, logic_not))"
   ]
  },
  {
   "cell_type": "code",
   "execution_count": 23,
   "id": "6f3ee6eb",
   "metadata": {},
   "outputs": [
    {
     "name": "stdout",
     "output_type": "stream",
     "text": [
      "0 and 0 = {}\n",
      "0 and 1 = {}\n",
      "0 and 2 = {}\n",
      "1 and 0 = {}\n",
      "1 and 1 = {1: 1}\n",
      "1 and 2 = {1: 1}\n",
      "2 and 0 = {}\n",
      "2 and 1 = {1: 1}\n",
      "2 and 2 = {1: 1}\n"
     ]
    }
   ],
   "source": [
    "for i in range(0, 3):\n",
    "  for j in range(0, 3):\n",
    "    print('%d and %d =' % (i, j), fast_evaluate({1: i, 2: j}, logic_and))"
   ]
  },
  {
   "cell_type": "code",
   "execution_count": 24,
   "id": "b3503537",
   "metadata": {},
   "outputs": [
    {
     "name": "stdout",
     "output_type": "stream",
     "text": [
      "0 or 0 = {}\n",
      "0 or 1 = {1: 1}\n",
      "0 or 2 = {1: 1}\n",
      "1 or 0 = {1: 1}\n",
      "1 or 1 = {1: 1}\n",
      "1 or 2 = {1: 1}\n",
      "2 or 0 = {1: 1}\n",
      "2 or 1 = {1: 1}\n",
      "2 or 2 = {1: 1}\n"
     ]
    }
   ],
   "source": [
    "for i in range(0, 3):\n",
    "  for j in range(0, 3):\n",
    "    print('%d or %d =' % (i, j), fast_evaluate({1: i, 2: j}, logic_or))"
   ]
  },
  {
   "cell_type": "markdown",
   "id": "02f0d54b",
   "metadata": {},
   "source": [
    "## Misc. algorithms\n",
    "\n",
    "### Composing code\n",
    "\n",
    "*Input*: $2^x \\cdot 3^y$. *Output*: $2^n$.\n",
    "\n",
    "The Nand gate can be implemented by composing the `logic_and` and then the `logic_not` gate.\n",
    "\n",
    "For example, in the following code, we simply merge the two lists:"
   ]
  },
  {
   "cell_type": "code",
   "execution_count": 25,
   "id": "d953a3d1",
   "metadata": {},
   "outputs": [],
   "source": [
    "logic_nand = logic_and + logic_not"
   ]
  },
  {
   "cell_type": "code",
   "execution_count": 26,
   "id": "2e57378c",
   "metadata": {},
   "outputs": [
    {
     "name": "stdout",
     "output_type": "stream",
     "text": [
      "0 nand 0 = {1: 1}\n",
      "0 nand 1 = {1: 1}\n",
      "1 nand 0 = {1: 1}\n",
      "1 nand 1 = {}\n"
     ]
    }
   ],
   "source": [
    "for i in range(0, 2):\n",
    "  for j in range(0, 2):\n",
    "    print('%d nand %d =' % (i, j), fast_evaluate({1: i, 2: j}, logic_nand))"
   ]
  },
  {
   "cell_type": "markdown",
   "id": "2ec49565",
   "metadata": {},
   "source": [
    "When composing code make sure you have made a copy of all the affected registers (if needed) since if there are overlapping registers some of the data may be overwritten."
   ]
  },
  {
   "cell_type": "markdown",
   "id": "282e5ef9",
   "metadata": {},
   "source": [
    "### Fibonacci\n",
    "\n",
    "*Input*: $2^x$. *Output*: $2^n$.\n",
    "\n",
    "The following program sets $n$ to $Fib(x)$."
   ]
  },
  {
   "cell_type": "code",
   "execution_count": 27,
   "id": "e0d27097",
   "metadata": {},
   "outputs": [],
   "source": [
    "fib = [\n",
    "  3,    # r1 = input/output, r2 = 0, r3 = 1, r4 = 0, r5 = 0\n",
    "  [1,   # while n > 1\n",
    "    -1,            # decrease n\n",
    "    [3, -3, 2, 4], # move r3 to r4, and add it to r2\n",
    "    [2, -2, 5],    # move r2 to r5\n",
    "    [4, -4, 2],    # move r4 to r2, and add it to r2\n",
    "    [5, -5, 3]],   # move r5 to r3\n",
    "  [3, -3],    # flush r3\n",
    "  [2, -2, 1]] # move r2 to r1"
   ]
  },
  {
   "cell_type": "code",
   "execution_count": 28,
   "id": "89b15e07",
   "metadata": {},
   "outputs": [
    {
     "name": "stdout",
     "output_type": "stream",
     "text": [
      "Fib(0) = {}\n",
      "Fib(1) = {1: 1}\n",
      "Fib(2) = {1: 1}\n",
      "Fib(3) = {1: 2}\n",
      "Fib(4) = {1: 3}\n",
      "Fib(5) = {1: 5}\n",
      "Fib(6) = {1: 8}\n"
     ]
    }
   ],
   "source": [
    "for i in range(0, 7):\n",
    "  print('Fib(%d) =' % i, fast_evaluate({1: i}, fib))"
   ]
  },
  {
   "cell_type": "markdown",
   "id": "02a432a7",
   "metadata": {},
   "source": [
    "### GCD\n",
    "\n",
    "*Input*: $2^x \\cdot 3^y$. *Output*: $2^n$.\n",
    "\n",
    "Sets $n$ to $GCD(x, y)$."
   ]
  },
  {
   "cell_type": "code",
   "execution_count": 29,
   "id": "5f4f5b15",
   "metadata": {},
   "outputs": [],
   "source": [
    "gcd = [\n",
    "  [2,\n",
    "    [2, -2, 11, 12], # copy b=r2 to r11, r12\n",
    "    [12, -12, 2]]    # bring back b\n",
    "    + arith_div +\n",
    "    [[1, -1], [11, -11, 1]]] # set a = b\n",
    "    # b is already remainder"
   ]
  },
  {
   "cell_type": "code",
   "execution_count": 30,
   "id": "e9c73666",
   "metadata": {},
   "outputs": [
    {
     "data": {
      "text/plain": [
       "{1: 2}"
      ]
     },
     "execution_count": 30,
     "metadata": {},
     "output_type": "execute_result"
    }
   ],
   "source": [
    "fast_evaluate({1: 2, 2: 4}, gcd)"
   ]
  },
  {
   "cell_type": "code",
   "execution_count": 31,
   "id": "839d1035",
   "metadata": {},
   "outputs": [
    {
     "data": {
      "text/plain": [
       "{1: 1}"
      ]
     },
     "execution_count": 31,
     "metadata": {},
     "output_type": "execute_result"
    }
   ],
   "source": [
    "fast_evaluate({1: 3, 2: 5}, gcd)"
   ]
  },
  {
   "cell_type": "code",
   "execution_count": 32,
   "id": "d11de7e3",
   "metadata": {},
   "outputs": [
    {
     "data": {
      "text/plain": [
       "{1: 4}"
      ]
     },
     "execution_count": 32,
     "metadata": {},
     "output_type": "execute_result"
    }
   ],
   "source": [
    "fast_evaluate({1: 12, 2: 16}, gcd)"
   ]
  },
  {
   "cell_type": "markdown",
   "id": "ce75d451",
   "metadata": {},
   "source": [
    "### Primality test\n",
    "\n",
    "*Input*: $2^x$. *Output*: $2^n$.\n",
    "\n",
    "Sets $n$ to 1 if $x$ is prime, and 0 otherwise. Requires $x>1$."
   ]
  },
  {
   "cell_type": "code",
   "execution_count": 33,
   "id": "db91c3c6",
   "metadata": {},
   "outputs": [],
   "source": [
    "is_prime = [\n",
    "  [1, -1, 11, 12],    # copy r1 to r11/r12\n",
    "  [11,\n",
    "    [1, -1],\n",
    "    [12, -12, 1, 15], # first argument is original input\n",
    "    [15, -15, 12],    # save original value from r15 (tmp) to r12\n",
    "    [2, -2],\n",
    "    [11, -11, 15],    # copy r11 to r15\n",
    "    [15, -15, 2, 11]] # second argument is current iterator\n",
    "    + arith_div +     # do the division\n",
    "    [\n",
    "    # negate r2 (see logical gate \"Not\")\n",
    "    [3, -3], 3, [2, -2, -3], [3, -3, 2],\n",
    "    # if there was a non-zero remainder, it is now zero\n",
    "    [2, -2, 14],      # if the remainder was zero, then it will be one and added to 14\n",
    "    -11,\n",
    "  ],\n",
    "  [12, -12],             # flush r12 (original input)\n",
    "  [1, -1], [14, -14, 1], # move result to r1\n",
    "  # at this point, r1 contains the number of factors\n",
    "  # if it's a prime, the number of factors will be two.\n",
    "  -1, -1,                # if prime, r1 = 0, else r1 > 1\n",
    "  # negate r1 for final result\n",
    "  [2, -2], 2, [1, -1, -2], [2, -2, 1]]"
   ]
  },
  {
   "cell_type": "markdown",
   "id": "cb1940f4",
   "metadata": {},
   "source": [
    "The idea is to store in $r_{12}$ the result of `!(n%i)` for `i=n;i>=0`. We say that a number is prime if $r_{12}=2$, i.e. only two numbers divide the number (1 and itself)."
   ]
  },
  {
   "cell_type": "code",
   "execution_count": 34,
   "id": "9aa06128",
   "metadata": {},
   "outputs": [
    {
     "name": "stdout",
     "output_type": "stream",
     "text": [
      "is_prime(2) = {1: 1}\n",
      "is_prime(3) = {1: 1}\n",
      "is_prime(4) = {}\n",
      "is_prime(5) = {1: 1}\n",
      "is_prime(6) = {}\n",
      "is_prime(7) = {1: 1}\n",
      "is_prime(8) = {}\n",
      "is_prime(9) = {}\n"
     ]
    }
   ],
   "source": [
    "for i in range(2, 10):\n",
    "  print('is_prime(%d) =' % i, fast_evaluate({1: i}, is_prime))"
   ]
  },
  {
   "cell_type": "markdown",
   "id": "3467b0c8",
   "metadata": {},
   "source": [
    "### Logarithm\n",
    "\n",
    "*Input*: $2^x \\cdot 3^y$. *Output*: $2^n$.\n",
    "\n",
    "Sets $n$ to $log_y(x)$."
   ]
  },
  {
   "cell_type": "code",
   "execution_count": 35,
   "id": "9382b3a8",
   "metadata": {},
   "outputs": [],
   "source": [
    "logn = [\n",
    "  [2, -2, 12], # store r2 to r12\n",
    "  [1, # while the first argument is non-zero\n",
    "    [2, -2],          # flush r2\n",
    "    [15, -15],        # flush r15\n",
    "    [12, -12, 2, 15], # restore r2 and save it to r3\n",
    "    [15, -15, 12]]    # restore r12\n",
    "    + arith_div +     # divide r1 by r2\n",
    "    # negate r2 (see logical gate \"Not\")\n",
    "    [[3, -3], 3, [2, -2, -3], [3, -3, 2],\n",
    "    11,               # increase division count\n",
    "  ],\n",
    "  -11, # no off by one error\n",
    "  [11, -11, 1], # flush r11 and move to r1\n",
    "  [12, -12]]    # flush r12"
   ]
  },
  {
   "cell_type": "code",
   "execution_count": 36,
   "id": "5e063faa",
   "metadata": {},
   "outputs": [
    {
     "name": "stdout",
     "output_type": "stream",
     "text": [
      "log2(2) = {1: 1}\n",
      "log3(3) = {1: 1}\n",
      "log2(3) = {1: 1}\n",
      "log3(4) = {1: 1}\n",
      "log2(4) = {1: 2}\n",
      "log3(5) = {1: 1}\n",
      "log2(5) = {1: 2}\n",
      "log3(6) = {1: 1}\n",
      "log2(6) = {1: 2}\n",
      "log3(7) = {1: 1}\n",
      "log2(7) = {1: 2}\n",
      "log3(8) = {1: 1}\n",
      "log2(8) = {1: 3}\n",
      "log3(9) = {1: 2}\n"
     ]
    }
   ],
   "source": [
    "for i in range(2, 9):\n",
    "  print('log2(%d) =' % i, fast_evaluate({1: i, 2: 2}, logn))\n",
    "  print('log3(%d) =' % (i+1), fast_evaluate({1: i+1, 2: 3}, logn))"
   ]
  }
 ],
 "metadata": {
  "kernelspec": {
   "display_name": "Python 3 (ipykernel)",
   "language": "python",
   "name": "python3"
  },
  "language_info": {
   "codemirror_mode": {
    "name": "ipython",
    "version": 3
   },
   "file_extension": ".py",
   "mimetype": "text/x-python",
   "name": "python",
   "nbconvert_exporter": "python",
   "pygments_lexer": "ipython3",
   "version": "3.9.12"
  }
 },
 "nbformat": 4,
 "nbformat_minor": 5
}
